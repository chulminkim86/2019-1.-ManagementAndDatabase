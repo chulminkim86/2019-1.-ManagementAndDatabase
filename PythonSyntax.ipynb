{
 "cells": [
  {
   "cell_type": "markdown",
   "metadata": {},
   "source": [
    "# Ⅰ. 자료형태(scalar type)\n",
    "- 파이썬에서 사용되는 자료(data)들의 가장 기본적인 형태를 의미하는 것으로 숫자(정수/실수), 문자, 불, Nonetype이 있음"
   ]
  },
  {
   "cell_type": "markdown",
   "metadata": {},
   "source": [
    "### 미리 입력해보기 (숫자형)\n",
    "- 숫자형은 숫자 형태로 이루어진 자료 형태로 파이썬에서는 정수, 실수, 복소수 등을 사용하며 다양한 사칙연산이 가능함"
   ]
  },
  {
   "cell_type": "code",
   "execution_count": null,
   "metadata": {},
   "outputs": [],
   "source": [
    "print(273)"
   ]
  },
  {
   "cell_type": "code",
   "execution_count": null,
   "metadata": {},
   "outputs": [],
   "source": [
    "print(52.273)"
   ]
  },
  {
   "cell_type": "code",
   "execution_count": null,
   "metadata": {},
   "outputs": [],
   "source": [
    "print(type(354))"
   ]
  },
  {
   "cell_type": "code",
   "execution_count": null,
   "metadata": {},
   "outputs": [],
   "source": [
    "print(type(354.23))"
   ]
  },
  {
   "cell_type": "code",
   "execution_count": null,
   "metadata": {},
   "outputs": [],
   "source": [
    "#더하기\n",
    "24+73"
   ]
  },
  {
   "cell_type": "code",
   "execution_count": null,
   "metadata": {},
   "outputs": [],
   "source": [
    "#빼기\n",
    "43-26"
   ]
  },
  {
   "cell_type": "code",
   "execution_count": null,
   "metadata": {},
   "outputs": [],
   "source": [
    "#곱하기\n",
    "87*4"
   ]
  },
  {
   "cell_type": "code",
   "execution_count": null,
   "metadata": {},
   "outputs": [],
   "source": [
    "#나누기\n",
    "40/4"
   ]
  },
  {
   "cell_type": "code",
   "execution_count": null,
   "metadata": {},
   "outputs": [],
   "source": [
    "#나눗셈 후 소수 아랫자리 버리기\n",
    "32//3"
   ]
  },
  {
   "cell_type": "code",
   "execution_count": null,
   "metadata": {},
   "outputs": [],
   "source": [
    "#나눗셈 후 소수점 아랫자리 버리기\n",
    "32%7"
   ]
  },
  {
   "cell_type": "code",
   "execution_count": null,
   "metadata": {},
   "outputs": [],
   "source": [
    "#제곱수 구하기\n",
    "4**5"
   ]
  },
  {
   "cell_type": "markdown",
   "metadata": {},
   "source": [
    "##### [참고] 비트연산자\n",
    "a=60  \n",
    "b=13\n",
    "\n",
    "a = 0011 1100  \n",
    "b = 0000 1101"
   ]
  },
  {
   "cell_type": "code",
   "execution_count": null,
   "metadata": {},
   "outputs": [],
   "source": [
    "\"\"\"\n",
    "& =  AND 연산. 둘 다 참일때 만족\n",
    "| = OR 연산, 둘 중 하나만 참이어도 만족\n",
    "^ = XOR 연산, 둘중 하나만 참일때 만족\n",
    "~ 보수 연산\n",
    "<< 왼쪽 시프트 연산, 변수의 값을 왼쪽으로 지정된 비트 수 만큼 이동\n",
    ">> 오른쪽 시프트 연산자, 변수의 값을 오른쪽으로 지정된 비트수만큼 이동\n",
    "\"\"\""
   ]
  },
  {
   "cell_type": "code",
   "execution_count": null,
   "metadata": {},
   "outputs": [],
   "source": [
    "60^13\n",
    "#49 = 0011 0001"
   ]
  },
  {
   "cell_type": "markdown",
   "metadata": {},
   "source": [
    "---\n",
    "## 1. 정수(int)\n",
    "숫자 중 소수점이 없는 것을 정수(int)라고 함\n",
    "- 소수점이 없는 숫자\n",
    "- 양의 정수(+)와 음의 정수(-)를 모두 표현할 수 있으며 사칙연산이 가능함\n",
    "- 특정 변수에 대입해 변수들 간 계산이 가능함\n",
    "---"
   ]
  },
  {
   "cell_type": "code",
   "execution_count": null,
   "metadata": {},
   "outputs": [],
   "source": [
    "x = 9\n",
    "print(\"Output #1: {0}\".format(x))"
   ]
  },
  {
   "cell_type": "code",
   "execution_count": null,
   "metadata": {},
   "outputs": [],
   "source": [
    "print(\"Output #2: {0}\".format(3**4))"
   ]
  },
  {
   "cell_type": "code",
   "execution_count": null,
   "metadata": {},
   "outputs": [],
   "source": [
    "print(\"Output #3: {0}\".format(int(8.3)/int(2.7)))"
   ]
  },
  {
   "cell_type": "markdown",
   "metadata": {},
   "source": [
    "---\n",
    "## 2. 실수(float)\n",
    "숫자 중 소수점이 있는 것을 실수(float)라고 함\n",
    "- 소수점이 있는 숫자형\n",
    "- 컴퓨터형 지수표현방식으로 표기할 수 있음\n",
    "---"
   ]
  },
  {
   "cell_type": "code",
   "execution_count": null,
   "metadata": {},
   "outputs": [],
   "source": [
    "print(\"output #4: {0:.3f}\".format(8.3/2.7))"
   ]
  },
  {
   "cell_type": "code",
   "execution_count": null,
   "metadata": {},
   "outputs": [],
   "source": [
    "y = 2.5*4.8\n",
    "print(\"Output #5: {0:.1f}\".format(y))"
   ]
  },
  {
   "cell_type": "code",
   "execution_count": null,
   "metadata": {},
   "outputs": [],
   "source": [
    "r = 8/float(3)\n",
    "print(\"Output #6: {0:.2f}\".format(r))"
   ]
  },
  {
   "cell_type": "code",
   "execution_count": null,
   "metadata": {},
   "outputs": [],
   "source": [
    "print(\"output #7: {0:.4f}\".format(8.0/3))"
   ]
  },
  {
   "cell_type": "markdown",
   "metadata": {},
   "source": [
    "---\n",
    "## 3. 문자(str)\n",
    "문자란 문자, 단어 등으로 구성된 문자들의 집합을 의미하며 큰따옴표 또는 작은 따옴표로 둘러싸고 있어야 함\n",
    "- 일반적으로 사용하는 문자 또는 문자 집합\n",
    "- 파이썬에서 문자를 표시하기 위해서는 반드시 따옴표를 사용해야 함\n",
    "- 글자 하나, 단어 하나, 문장, 숫자 등을 큰/작은 따옴표로 둘러싸고 있으면 모두 문자열로 인식함\n",
    "- split(), join(), strip(), replace() 등 문자열 함수를 이용할 수 있음\n",
    "- 문자열을 더하거나 곱하는 등 간단한 연산과 인덱싱, 슬라이싱 등을 수행할 수 있음\n",
    "---"
   ]
  },
  {
   "cell_type": "code",
   "execution_count": null,
   "metadata": {},
   "outputs": [],
   "source": [
    "print(\"문자열 출력하기, 큰따옴표\")\n",
    "print('문자열 출력하기, 작은따옴표')\n",
    "print(\"\"\"문자열 출력하기, 큰따옴표 3개\"\"\")\n",
    "print('''문자열 출력하기, 작은따옴표 3개''')"
   ]
  },
  {
   "cell_type": "code",
   "execution_count": null,
   "metadata": {},
   "outputs": [],
   "source": [
    "text = \"&&&All children, except one, grow up&&&\""
   ]
  },
  {
   "cell_type": "markdown",
   "metadata": {},
   "source": [
    "#### Split()\n",
    "하나의 문자열을 나누어 본래 문자열을 구성하는 문자열들의 리스트로 만드는 문자열 함수"
   ]
  },
  {
   "cell_type": "code",
   "execution_count": null,
   "metadata": {},
   "outputs": [],
   "source": [
    "split_text = text.split()\n",
    "print(split_text)"
   ]
  },
  {
   "cell_type": "markdown",
   "metadata": {},
   "source": [
    "#### join()\n",
    "리스트에 속한 부분 문자열들을 단일 문자열로 결합하는 문자열 함수"
   ]
  },
  {
   "cell_type": "code",
   "execution_count": null,
   "metadata": {},
   "outputs": [],
   "source": [
    "join_text = \"\".join(split_text)\n",
    "print(join_text)"
   ]
  },
  {
   "cell_type": "markdown",
   "metadata": {},
   "source": [
    "#### strip()\n",
    "문자열 끝에서 원하지 않는 문자를 지우는 문자열 함수로 strip, lstrip, rstrip을 사용할 수 있음\n",
    "- 각 문자열 함수는 삭제하고 싶은 문자(들)을 인수로 받을 수 있음"
   ]
  },
  {
   "cell_type": "code",
   "execution_count": null,
   "metadata": {
    "scrolled": true
   },
   "outputs": [],
   "source": [
    "strip_text = text.strip('&')\n",
    "print(strip_text)"
   ]
  },
  {
   "cell_type": "code",
   "execution_count": null,
   "metadata": {},
   "outputs": [],
   "source": [
    "lstrip_text = text.lstrip('&')\n",
    "print(lstrip_text)"
   ]
  },
  {
   "cell_type": "code",
   "execution_count": null,
   "metadata": {},
   "outputs": [],
   "source": [
    "rstrip_text = text.rstrip(\"&\")\n",
    "print(rstrip_text)"
   ]
  },
  {
   "cell_type": "markdown",
   "metadata": {},
   "source": [
    "#### replace()\n",
    "문자열 내에 있는 하나의 문자나 문자 집합을 다른 문자 혹은 다른 문자 집합으로 치환하는 문자열 함수\n",
    "- 인수가 두개 사용되며 첫번째 인수는 바꾸고자 하는 대상, 두번째 인수는 바꾸려는 내용으로 사용됨"
   ]
  },
  {
   "cell_type": "code",
   "execution_count": null,
   "metadata": {},
   "outputs": [],
   "source": [
    "replace_text = text.replace(\"children\", \"kids\")\n",
    "print(replace_text)\n",
    "print(format(replace_text.strip('&')))"
   ]
  },
  {
   "cell_type": "markdown",
   "metadata": {},
   "source": [
    "#### 문자열 더해서 연결하기\n",
    "더하기 연산자(+)를 이용해 문자열을 연결할 수 있음"
   ]
  },
  {
   "cell_type": "code",
   "execution_count": null,
   "metadata": {},
   "outputs": [],
   "source": [
    "head = strip_text\n",
    "tail = \"__by J.M. Barrie, Peter Pan\"\n",
    "full_text = head + tail\n",
    "print(full_text)"
   ]
  },
  {
   "cell_type": "markdown",
   "metadata": {},
   "source": [
    "#### 문자열 곱하기\n",
    "곱하기 연산자(*)를 이용해 문자열을 반복해 출력할 수 있음"
   ]
  },
  {
   "cell_type": "code",
   "execution_count": null,
   "metadata": {},
   "outputs": [],
   "source": [
    "print(\"=\"*80)\n",
    "print(full_text)\n",
    "print(\"=\"*80)"
   ]
  },
  {
   "cell_type": "markdown",
   "metadata": {},
   "source": [
    "#### 문자열 인덱싱\n",
    "문자열 내 문자들을 위치된 순서에 따라 호출할 수 있음\n",
    "- [&nbsp;&nbsp;]로 표기\n",
    "\n",
    "|A|l|l|&nbsp;|C|h|i|l|d|r|e|n|,|&nbsp;|e|x|c|e|p|t|&nbsp;|o|n|e|,|&nbsp;|g|r|o|w|&nbsp;|u|p|\n",
    "|-:|-:|-:|-:|-:|-:|-:|-:|-:|-:|-:|-:|-:|-:|-:|-:|-:|-:|-:|-:|-:|-:|-:|-:|-:|-:|-:|-:|-:|-:|-:|-:|-:|\n",
    "|0|1|2|3|4|5|6|7|8|9|10|11|12|13|14|15|16|17|18|19|20|21|22|23|24|25|26|27|28|29|30|31|32|\n",
    "|-33|-32|-31|-30|-29|-28|-27|-26|-25|-24|-23|-22|-21|-20|-19|-18|-17|-16|-15|-14|-13|-12|-11|-10|-9|-8|-7|-6|-5|-4|-3|-2|-1|"
   ]
  },
  {
   "cell_type": "code",
   "execution_count": null,
   "metadata": {},
   "outputs": [],
   "source": [
    "print(strip_text)\n",
    "#print(text)"
   ]
  },
  {
   "cell_type": "code",
   "execution_count": null,
   "metadata": {},
   "outputs": [],
   "source": [
    "strip_text[4]"
   ]
  },
  {
   "cell_type": "code",
   "execution_count": null,
   "metadata": {},
   "outputs": [],
   "source": [
    "strip_text[-29]"
   ]
  },
  {
   "cell_type": "markdown",
   "metadata": {},
   "source": [
    "#### 문자열 슬라이싱\n",
    "문자열 내 일부분을 추출할 수 있음\n",
    "- 콜론(:)으로 범위를 지정함\n",
    "- 끝 번호에 해당하는 문자는 포함되지 않음\n",
    "- 처음과 끝 부분에 범위를 생략하면 0으로 인식함"
   ]
  },
  {
   "cell_type": "code",
   "execution_count": null,
   "metadata": {},
   "outputs": [],
   "source": [
    "print(strip_text)"
   ]
  },
  {
   "cell_type": "code",
   "execution_count": null,
   "metadata": {},
   "outputs": [],
   "source": [
    "strip_text[4:12]"
   ]
  },
  {
   "cell_type": "code",
   "execution_count": null,
   "metadata": {},
   "outputs": [],
   "source": [
    "strip_text[26:]"
   ]
  },
  {
   "cell_type": "code",
   "execution_count": null,
   "metadata": {},
   "outputs": [],
   "source": [
    "strip_text[:24]"
   ]
  },
  {
   "cell_type": "markdown",
   "metadata": {},
   "source": [
    "---\n",
    "## 4. 불(Bool)\n",
    "참(True)이나 거짓(FAlse) 값만 가질 수 있으며 비교의 결과를 참이나 거짓으로 저장할 떄 사용함\n",
    "- 참/거짓 값만 가질 수 있음\n",
    "- 단독으로 사용되기 보다는 if문, while문과 함께 사용되는 경우가 많음\n",
    "- 비교 연산자를 이용해 불(bool)을 만들 수 있으며 불(bool)끼리는 논리 연산자를 사용할 수 있음\n",
    "---"
   ]
  },
  {
   "cell_type": "code",
   "execution_count": null,
   "metadata": {},
   "outputs": [],
   "source": [
    "print(True)\n",
    "print(False)"
   ]
  },
  {
   "cell_type": "markdown",
   "metadata": {},
   "source": [
    "#### 비교연산자\n",
    "값을 비교할 떄 사용하며 숫자 또는 문자열에 적용할 수 있음"
   ]
  },
  {
   "cell_type": "code",
   "execution_count": null,
   "metadata": {},
   "outputs": [],
   "source": [
    "# 숫자간 비교 연산자\n",
    "print(10 == 100)\n",
    "print(10 != 100)\n",
    "print(10 < 100)\n",
    "print(10 > 100)\n",
    "print(10 <= 100)\n",
    "print(10 >= 100)"
   ]
  },
  {
   "cell_type": "code",
   "execution_count": null,
   "metadata": {},
   "outputs": [],
   "source": [
    "# 문자간 비교 연산자\n",
    "# 사전 순서대로 크기가 정의됨\n",
    "print(\"가수\" == \"가수\")\n",
    "print(\"가수\" != \"하늘\")\n",
    "print(\"가수\" < \"하늘\")\n",
    "print(\"가수\" > \"하늘\")"
   ]
  },
  {
   "cell_type": "markdown",
   "metadata": {},
   "source": [
    "### 5. None유형(Nonetype)\n",
    "값이 없음을 나타내는 것으로 None값만 가질 수 있으며 연산 대상이 되지 못함"
   ]
  },
  {
   "cell_type": "code",
   "execution_count": null,
   "metadata": {
    "collapsed": true,
    "jupyter": {
     "outputs_hidden": true
    }
   },
   "outputs": [],
   "source": [
    "a =  None\n",
    "b = 30\n",
    "c = 0"
   ]
  },
  {
   "cell_type": "code",
   "execution_count": null,
   "metadata": {
    "collapsed": true,
    "jupyter": {
     "outputs_hidden": true
    }
   },
   "outputs": [],
   "source": [
    "a"
   ]
  },
  {
   "cell_type": "code",
   "execution_count": null,
   "metadata": {},
   "outputs": [],
   "source": [
    "b"
   ]
  },
  {
   "cell_type": "code",
   "execution_count": null,
   "metadata": {},
   "outputs": [],
   "source": [
    "c"
   ]
  },
  {
   "cell_type": "markdown",
   "metadata": {},
   "source": [
    "# Ⅱ.자료구조(data structure)\n",
    "파이썬에서 사용되는 자료형태(scalar type)를 이용해 생성되는 데이터 집합형태로서 변수(variable), 튜플(tuple), 리스트(list), 딕셔너리(dictionary), 집합(set)이 있음"
   ]
  },
  {
   "cell_type": "markdown",
   "metadata": {},
   "source": [
    "---\n",
    "## 1. 변수(variable)\n",
    "변수(variable)는 사용되고 있는 여러가지 자료 유형을 저장할 때 사용하는 식별자(identifier)로 파이썬에서 사용되는 모든 자료 유형을 저장하고 호출할 수 있음\n",
    "\n",
    "**생성규칙**\n",
    "- 영문자나 언더 하이픈(_)으로 시작해야 함\n",
    "- 숫자나 특수 문자로 시작할 수 없음\n",
    "- 대문자와 소문자는 다른 글자로 생각함\n",
    "- 공백을 포함할 수 없음\n",
    "- Python Key Word를 사용할 수 없음\n",
    "---"
   ]
  },
  {
   "cell_type": "markdown",
   "metadata": {},
   "source": [
    "#### 변수로 쓸 수 없는 단어"
   ]
  },
  {
   "cell_type": "code",
   "execution_count": null,
   "metadata": {},
   "outputs": [],
   "source": [
    "#파이썬 키워드 확인\n",
    "import keyword\n",
    "import pprint\n",
    "pprint.pprint(keyword.kwlist, width=60, compact=True)\n",
    "#help(pprint.pprint)"
   ]
  },
  {
   "cell_type": "markdown",
   "metadata": {},
   "source": [
    "#### 변수 만들기\n",
    "변수명과 변수에 해당하는 값을 할당함으로 생성할 수 있음"
   ]
  },
  {
   "cell_type": "code",
   "execution_count": null,
   "metadata": {},
   "outputs": [],
   "source": [
    "#변수 만들기_변수 정의\n",
    "name = \"계산기\"\n",
    "name"
   ]
  },
  {
   "cell_type": "code",
   "execution_count": null,
   "metadata": {},
   "outputs": [],
   "source": [
    "name = \"김철민\""
   ]
  },
  {
   "cell_type": "code",
   "execution_count": null,
   "metadata": {},
   "outputs": [],
   "source": [
    "name"
   ]
  },
  {
   "cell_type": "code",
   "execution_count": null,
   "metadata": {},
   "outputs": [],
   "source": [
    "#변수 만들기_변수값 직접 입력하기_input()\n",
    "a = int(input(\"첫 번째 값을 입력하세요:   \"))\n",
    "b = int(input(\"두 번째 값을 입력하세요:   \"))"
   ]
  },
  {
   "cell_type": "code",
   "execution_count": null,
   "metadata": {},
   "outputs": [],
   "source": [
    "a"
   ]
  },
  {
   "cell_type": "code",
   "execution_count": null,
   "metadata": {},
   "outputs": [],
   "source": [
    "b"
   ]
  },
  {
   "cell_type": "markdown",
   "metadata": {},
   "source": [
    "#### 변수 간 연산\n",
    "변수 값이 할당된 후 적절한 연산자를 사용해 연산이 가능함"
   ]
  },
  {
   "cell_type": "code",
   "execution_count": null,
   "metadata": {},
   "outputs": [],
   "source": [
    "#변수간 연산 \n",
    "\n",
    "result = a + b \n",
    "print(a, \"+\" , b, \"=\", result)\n",
    "\n",
    "result = a - b \n",
    "print(a, \"-\" , b, \"=\", result)\n",
    "\n",
    "result = a * b \n",
    "print(a, \"*\" , b, \"=\", result)\n",
    "\n",
    "result = a / b \n",
    "print(a, \"/\" , b, \"=\", result)"
   ]
  },
  {
   "cell_type": "markdown",
   "metadata": {},
   "source": [
    "---\n",
    "## 2. 튜플(tuple)\n",
    "튜플(tuple)은 하나의 변수에 여러 개의 값(value)를 할당할 때 사용하며 생성된 이후 각 요소를 변경하는 것이 불가능함\n",
    "\n",
    "**생성규칙**\n",
    "- 튜플을 생성하기 위해서는 소괄호를 사용함\n",
    "- **생성 된 이후 각 요소값을 변경, 삭제, 추가할 수 없음**\n",
    "- 요소를 하나만 가지는 튜플은 첫 번째 요소 뒤에 쉼표를 넣어야 함\n",
    "---"
   ]
  },
  {
   "cell_type": "markdown",
   "metadata": {},
   "source": [
    "#### 튜플 만들기\n",
    "튜플명을 지정한 후 소괄호를 이용해 각 요소값을 입력함"
   ]
  },
  {
   "cell_type": "code",
   "execution_count": null,
   "metadata": {},
   "outputs": [],
   "source": [
    "#튜플을 생성\n",
    "tuple_ko_key = (\"가\",\"나\",\"다\",\"라\",\"마\",\"바\",\"사\",\"아\",\"자\",\"차\",\"타\",\"카\",\"파\",\"하\")"
   ]
  },
  {
   "cell_type": "code",
   "execution_count": null,
   "metadata": {},
   "outputs": [],
   "source": [
    "tuple_ko_key"
   ]
  },
  {
   "cell_type": "code",
   "execution_count": null,
   "metadata": {},
   "outputs": [],
   "source": [
    "#튜플 내 요소값 변경 시도\n",
    "tuple_ko_key[2] = \"튜플 내 인덱스2를 변경하고 싶어\""
   ]
  },
  {
   "cell_type": "code",
   "execution_count": null,
   "metadata": {},
   "outputs": [],
   "source": [
    "#튜플 내 요소값 추가 시도\n",
    "tuple_ko_key.append(\"튜플에 새로운 값을 넣고싶어\")"
   ]
  },
  {
   "cell_type": "markdown",
   "metadata": {},
   "source": [
    "---\n",
    "## 3. 리스트(list)\n",
    "리스트(list)는 하나의 변수에 여러 개의 값을 할당할 때 사용하며 튜플과는 다르게 요소값의 추가, 변경, 삭제 등이 가능함\n",
    "\n",
    "**생성규칙**\n",
    "- 리스트를 생성하기 위해서는 대괄호를 사용함\n",
    "- 생성된 이후 함수를 이용해 각 요소값을 변경, 삭제, 추가할 수 있음\n",
    "---"
   ]
  },
  {
   "cell_type": "markdown",
   "metadata": {},
   "source": [
    "#### 리스트 만들기\n",
    "리스트 명을 지정한 후 대괄호로 각 요소값을 입력함"
   ]
  },
  {
   "cell_type": "code",
   "execution_count": null,
   "metadata": {},
   "outputs": [],
   "source": [
    "#리스트 생성\n",
    "list_en_key = [\"b\",\"c\",\"d\",\"e\",\"f\",\"g\",\"h\",\"i\",\"j\",\"k\"]\n",
    "list_en_key"
   ]
  },
  {
   "cell_type": "markdown",
   "metadata": {},
   "source": [
    "#### 리스트 내 요소 추가하기\n",
    "appned(), extend(), insert() 함수 사용"
   ]
  },
  {
   "cell_type": "code",
   "execution_count": null,
   "metadata": {},
   "outputs": [],
   "source": [
    "#append() 함수 이용\n",
    "list_en_key.append(\"l\") \n",
    "list_en_key"
   ]
  },
  {
   "cell_type": "code",
   "execution_count": null,
   "metadata": {},
   "outputs": [],
   "source": [
    "#extend() 함수 사용\n",
    "list_en_key.extend([\"m\",\"n\",\"o\",\"p\",\"q\",\"r\",\"s\",\"t\",\"u\",\"v\",\"w\",\"x\",\"y\",\"z\"])\n",
    "list_en_key"
   ]
  },
  {
   "cell_type": "code",
   "execution_count": null,
   "metadata": {},
   "outputs": [],
   "source": [
    "#insert() 함수 사용\n",
    "list_en_key.insert(0, \"a\") #리스트 내 0번째 위치에 'a' 요소값 추가\n",
    "list_en_key"
   ]
  },
  {
   "cell_type": "markdown",
   "metadata": {},
   "source": [
    "#### 리스트 내 요소 접근\n",
    "리스트 인덱스를 이용해 접근"
   ]
  },
  {
   "cell_type": "code",
   "execution_count": null,
   "metadata": {},
   "outputs": [],
   "source": [
    "#리스트 인덱스를 이용해 접근\n",
    "list_en_key[:5]"
   ]
  },
  {
   "cell_type": "markdown",
   "metadata": {},
   "source": [
    "#### 리스트 내 요소 제거\n",
    "인덱스(del, pop())와 요소값(remove()), clear()를 이용해 제거"
   ]
  },
  {
   "cell_type": "markdown",
   "metadata": {},
   "source": [
    "##### 1) 인덱스로 제거하기"
   ]
  },
  {
   "cell_type": "code",
   "execution_count": null,
   "metadata": {},
   "outputs": [],
   "source": [
    "#del 명령으로 요소 제거하기\n",
    "del list_en_key[1]\n",
    "list_en_key"
   ]
  },
  {
   "cell_type": "code",
   "execution_count": null,
   "metadata": {},
   "outputs": [],
   "source": [
    "#pop() 함수로 요소 제거하기\n",
    "list_en_key.pop(1)\n",
    "list_en_key"
   ]
  },
  {
   "cell_type": "markdown",
   "metadata": {},
   "source": [
    "#### 2) 값으로 제거하기"
   ]
  },
  {
   "cell_type": "code",
   "execution_count": null,
   "metadata": {},
   "outputs": [],
   "source": [
    "#remove() 함수를 사용해 요소 제거\n",
    "list_en_key.remove(\"a\")\n",
    "list_en_key"
   ]
  },
  {
   "cell_type": "markdown",
   "metadata": {},
   "source": [
    "#### 3)모두 제거하기"
   ]
  },
  {
   "cell_type": "code",
   "execution_count": null,
   "metadata": {},
   "outputs": [],
   "source": [
    "#clear() 함수를 이용해 리스트 내 모든 요소 제거\n",
    "list_en_key.clear()\n",
    "list_en_key"
   ]
  },
  {
   "cell_type": "markdown",
   "metadata": {},
   "source": [
    "---\n",
    "## 4. 딕셔너리(dictionary)\n",
    "딕셔너리(dictionary)는 문자열을 기준으로 각 요소값을 저장하는 자료구조이며 키(key)와 값(value)로 구성되어 있음\n",
    "\n",
    "- 딕셔너리는 중괄호{}로 만들 수 있으며 반드시 <키>:<값> 형태를 쉼표로 연결해 만들어야 함\n",
    "- 키는 문자, 숫자, 불 등으로 만들 수 있으나 일반적으로 문자열을 사용함\n",
    "- 여러 정보를 하나의 변수로 표현할 때 매우 유용하게 사용됨\n",
    "- 키 값은 딕셔너리 내 유일해야 함\n",
    "---"
   ]
  },
  {
   "cell_type": "markdown",
   "metadata": {},
   "source": [
    "### 딕셔너리 생성하기\n",
    "중괄호{}를 사용하며 <키>:<값>을 쉼표로 연결해 생성\n",
    "\n",
    "<center><h1>키(key)</h1></center>| <center><h1>값(value)</h1></center>\n",
    "------------|-------------\n",
    "<center><h2>학번</h2></center>|<center><h2>2005051531</h2></center>\n",
    "<center><h2>이름</h2></center>|<center><h2>김철민</h2></center>\n",
    "<center><h2>성별</h2></center>|<center><h2>남</h2></center>\n",
    "<center><h2>소속</h2></center>|<center><h2>경상대학</h2></center>"
   ]
  },
  {
   "cell_type": "code",
   "execution_count": null,
   "metadata": {},
   "outputs": [],
   "source": [
    "student_info = {\"학번\": 200501531, \"이름\": \"김철민\", \"성별\": \"남\", \"소속\": \"경상대학\"}\n",
    "student_info"
   ]
  },
  {
   "cell_type": "markdown",
   "metadata": {},
   "source": [
    "### 딕셔너리 내 요소쌍 추가하기\n",
    "딕셔너리명[키]=값 형식으로 딕셔너리 쌍을 추가할 수 있음"
   ]
  },
  {
   "cell_type": "code",
   "execution_count": null,
   "metadata": {},
   "outputs": [],
   "source": [
    "student_info['e-mail'] = \"friend100n@gmail.com\"\n",
    "student_info"
   ]
  },
  {
   "cell_type": "code",
   "execution_count": null,
   "metadata": {},
   "outputs": [],
   "source": [
    "#딕셔너리 내 키는 유일해야하기 때문에 기존 소속이 변경됨\n",
    "student_info['소속'] = \"일반대학원 경영컨설팅학과\"\n",
    "student_info"
   ]
  },
  {
   "cell_type": "markdown",
   "metadata": {},
   "source": [
    "### 딕셔너리 사용하기\n",
    "기본적으로 [키]를 이용해 값을 구하며 get() 함수를 사용할 수도 있음"
   ]
  },
  {
   "cell_type": "code",
   "execution_count": null,
   "metadata": {},
   "outputs": [],
   "source": [
    "#[키] 를 이용한 딕셔너리 요소쌍 접근\n",
    "student_info[\"이름\"]"
   ]
  },
  {
   "cell_type": "code",
   "execution_count": null,
   "metadata": {},
   "outputs": [],
   "source": [
    "#get() 함수를 이용한 딕셔너리 요소쌍 접근\n",
    "student_info.get(\"이름\")"
   ]
  },
  {
   "cell_type": "code",
   "execution_count": null,
   "metadata": {},
   "outputs": [],
   "source": [
    "#딕셔너리 내 모든 키 호출\n",
    "student_info.keys()"
   ]
  },
  {
   "cell_type": "code",
   "execution_count": null,
   "metadata": {},
   "outputs": [],
   "source": [
    "#딕셔너리 내 모든 값 호출\n",
    "student_info.values()"
   ]
  },
  {
   "cell_type": "markdown",
   "metadata": {},
   "source": [
    "---\n",
    "## 5. 집합(set)\n",
    "집합(set)는 키만 모아 놓은 딕셔너리의 특수한 형태로서 집합에 들어 있는 값은 항상 유일하며 중괄호를 사용해 만들 수 있지만 딕셔너리와는 달리 콜론(:)을 입력하지 않음\n",
    "\n",
    "**생성 규칙**\n",
    "- 집합는 중괄호{}로 만들 수 있으며 딕셔너리의 [키] 만 모아놓은 형태임\n",
    "- 중괄호를 사용해 만들 수 있으나 콜론을 입력하지 않음\n",
    "- 요소 값은 집합 내 항상 유일하게 유지됨\n",
    "---"
   ]
  },
  {
   "cell_type": "markdown",
   "metadata": {},
   "source": [
    "### 집합 생성하기\n",
    "콜론없는 중괄호와 set()함수를 이용해 집합을 만들 수 있음\n",
    "- set() 함수는 리스트, 튜플, 딕셔너리를 집합으로 변경시킴"
   ]
  },
  {
   "cell_type": "code",
   "execution_count": null,
   "metadata": {},
   "outputs": [],
   "source": [
    "# 중괄호를 사용해 집합 만들기\n",
    "test_set1 = {1, 2, 3, 4, 5, 5, 6, 7}\n",
    "test_set1"
   ]
  },
  {
   "cell_type": "code",
   "execution_count": null,
   "metadata": {},
   "outputs": [],
   "source": [
    "# set() 함수를 사용해 집합 만들기\n",
    "test_list = [1, 2, 3, 4, 5, 5, 6, 8, 9, 10]\n",
    "print(test_list)\n",
    "test_set2 = set(test_list)\n",
    "print(test_set2)"
   ]
  },
  {
   "cell_type": "markdown",
   "metadata": {},
   "source": [
    "### 집합 연산하기\n",
    "집합 간 교집합, 합집합, 차집합, 역 차집합을 연산할 수 있음"
   ]
  },
  {
   "cell_type": "code",
   "execution_count": null,
   "metadata": {},
   "outputs": [],
   "source": [
    "print(test_set1 & test_set2) #두 집합간 교집합 구하기\n",
    "print(test_set1 | test_set2) #두 집합간 합집합 구하기\n",
    "print(test_set1 - test_set2) #두 집합간 차집합 구하기\n",
    "print(test_set1 ^ test_set2) #두 집합간 역 차집합 구하기"
   ]
  },
  {
   "cell_type": "markdown",
   "metadata": {},
   "source": [
    "# Ⅲ. 제어문(Loop & Control)"
   ]
  },
  {
   "cell_type": "markdown",
   "metadata": {},
   "source": [
    "---\n",
    "### 1. if 문 - 조건문\n",
    "If문은 특정 조건에 따라 코드를 실행하거나 실행하지 않게 만들고 싶을 때 사용하는 구문(statement)로써 if를 통해 구현함\n",
    "\n",
    "**생성규칙**\n",
    "- If를 입력하고 조건을 입력함\n",
    "- If문 다음에 콜론을 입력해야 함\n",
    "- If문 바로 아래문장부터 **들여쓰기(indentation)을 해야함**\n",
    "- Else가 없으면 조건이 거짓일 때 코드실행이 종료됨\n",
    "- 조건이 거짓일 때 수행하는 구문은 else를 이용해 입력함\n",
    "\n",
    "**상황표현**\n",
    ">**돈이 있으면 택시를 타고, 돈이 없으면 걸어간다.**\n",
    "---"
   ]
  },
  {
   "cell_type": "code",
   "execution_count": null,
   "metadata": {},
   "outputs": [],
   "source": [
    "money = True\n",
    "\n",
    "if money:\n",
    "    print(\"택시를 타고 갑니다\")\n",
    "else:\n",
    "    print(\"걸어갑니다\")   "
   ]
  },
  {
   "cell_type": "markdown",
   "metadata": {},
   "source": [
    "#### IF문 연습 (1)"
   ]
  },
  {
   "cell_type": "code",
   "execution_count": null,
   "metadata": {},
   "outputs": [],
   "source": [
    "#입력\n",
    "number = input(\"정수를 입력하세요:  \")\n",
    "number = int(number)\n",
    "\n",
    "#양수 조건 입력\n",
    "if number > 0:\n",
    "    print(\"양의 정수입니다.\")\n",
    "    \n",
    "#음수 조건 입력\n",
    "if number < 0:\n",
    "    print(\"음의 정수입니다\")\n",
    "    \n",
    "#0 조건 입력\n",
    "if number == 0:\n",
    "    print(\"0입니다.\")"
   ]
  },
  {
   "cell_type": "markdown",
   "metadata": {},
   "source": [
    "#### IF문 연습(2)"
   ]
  },
  {
   "cell_type": "code",
   "execution_count": null,
   "metadata": {},
   "outputs": [],
   "source": [
    "import random\n",
    "\n",
    "x = random.randint(1, 50)\n",
    "y = random.randint(1, 50)\n",
    "\n",
    "print(x, \"+\", y, \"=\" )\n",
    "\n",
    "a = input(\"정답을 입력하세요:    \")\n",
    "b = int(a)\n",
    "\n",
    "if x + y == b:\n",
    "    print(\"정답입니다.\")\n",
    "else:\n",
    "    print(\"오답입니다.\")"
   ]
  },
  {
   "cell_type": "markdown",
   "metadata": {},
   "source": [
    "---\n",
    "### 2. for 문 - 반복구문\n",
    "for문은 지정한 횟수만큼 지정된 코드를 반복해서 실행할 수 있으며 for를 이용해 구현함\n",
    "\n",
    "**생성규칙**\n",
    "- For 문은 범위를 지정하거나 특정 범위를 가지고 있음\n",
    "- For문은 조건식이 존재하지 않음\n",
    "- 반복 주체를 나타내는 변수를 for 다음, 반복 횟수를 나타내는 범위는 in 다음에 사용함\n",
    "\n",
    "\n",
    "#### Structure\n",
    ">**for** (변수명) **in** (범위 또는 배열의 변수, 순서형 자료):\n",
    "\n",
    "\n",
    "#### 상황표현\n",
    ">**if는 조건문, for와 while은 반복문에서 사용합니다.**  x 3\n",
    "---"
   ]
  },
  {
   "cell_type": "markdown",
   "metadata": {},
   "source": [
    "#### print()를 이용한 반복"
   ]
  },
  {
   "cell_type": "code",
   "execution_count": null,
   "metadata": {},
   "outputs": [],
   "source": [
    "print(\"if는 조건문, for와 while은 반복문에서 사용합니다.\")\n",
    "print(\"if는 조건문, for와 while은 반복문에서 사용합니다.\")\n",
    "print(\"if는 조건문, for와 while은 반복문에서 사용합니다.\")"
   ]
  },
  {
   "cell_type": "markdown",
   "metadata": {},
   "source": [
    "#### for문을 이용한 반복"
   ]
  },
  {
   "cell_type": "code",
   "execution_count": null,
   "metadata": {},
   "outputs": [],
   "source": [
    "for a in range(3):\n",
    "    print(\"if는 조건문, for와 while은 반복문에서 사용합니다.\")"
   ]
  },
  {
   "cell_type": "markdown",
   "metadata": {},
   "source": [
    "#### - 리스트와 for문의 조합"
   ]
  },
  {
   "cell_type": "code",
   "execution_count": null,
   "metadata": {},
   "outputs": [],
   "source": [
    "#리스트 생성\n",
    "Practice_list = [189, 190, 234, 283, 405, 200]\n",
    "Practice_list"
   ]
  },
  {
   "cell_type": "code",
   "execution_count": null,
   "metadata": {},
   "outputs": [],
   "source": [
    "#생성한 리스트에서 요소를 검색해 출력하기\n",
    "for element in Practice_list:\n",
    "    print(element)"
   ]
  },
  {
   "cell_type": "markdown",
   "metadata": {},
   "source": [
    "#### For문 연습(1) - 구구단 만들기"
   ]
  },
  {
   "cell_type": "code",
   "execution_count": null,
   "metadata": {},
   "outputs": [],
   "source": [
    "i = 0\n",
    "dan = 0\n",
    "\n",
    "dan = int(input(\"단을 입력하세요:  \"))\n",
    "\n",
    "for i in range(1, 10, 1):\n",
    "    print(\"%d X %d = %2d\" % (dan, i, dan *i))"
   ]
  },
  {
   "cell_type": "markdown",
   "metadata": {},
   "source": [
    "#### For문 연습(2) - rannge()를 응용한 숫자 계산"
   ]
  },
  {
   "cell_type": "code",
   "execution_count": null,
   "metadata": {},
   "outputs": [],
   "source": [
    "i, hap = 0, 0\n",
    "num1, num2, num3 = 0, 0, 0\n",
    "\n",
    "num1 = int(input(\"시작값을 입력하세요:   \"))\n",
    "num2 = int(input(\"끝 값을 입력하세요:    \"))\n",
    "num3 = int(input(\"증가값을 입력하세요:   \"))\n",
    "\n",
    "for i in range(num1, num2, num3):\n",
    "    hap = hap + i\n",
    "    \n",
    "print(\"%d에서 %d까지 %d씩 증가시킨 값의 합계: %d\" % (num1, num2, num3, hap))"
   ]
  },
  {
   "cell_type": "code",
   "execution_count": null,
   "metadata": {},
   "outputs": [],
   "source": [
    "#For 문의 응용\n",
    "#총 5명의 학생이 시험을 보았는데 시험 점수가 60점이 넘으면 합격이고 그렇지 않으면 불합격이다. 합격인지 불합격인지 결과를 보여주시오.\"\n",
    "\n",
    "marks = [90, 25, 67, 45, 80]\n",
    "number = 0 \n",
    "\n",
    "for mark in marks: \n",
    "    number = number +1 \n",
    "    if mark >= 60: \n",
    "        print(\"%d번 학생은 합격입니다.\" % number)\n",
    "    else: \n",
    "        print(\"%d번 학생은 불합격입니다.\" % number)"
   ]
  },
  {
   "cell_type": "markdown",
   "metadata": {},
   "source": [
    "#### For문 연습(3) - continue 사용 - 상위 계산으로 이동"
   ]
  },
  {
   "cell_type": "code",
   "execution_count": null,
   "metadata": {},
   "outputs": [],
   "source": [
    "#for문과 continue\n",
    "\n",
    "marks = [90, 25, 67, 45, 80]\n",
    "number = 0 \n",
    "\n",
    "for mark in marks: \n",
    "    number = number +1 \n",
    "    if mark < 60: \n",
    "        continue #가장 상위 계산으로 이동\n",
    "    print(\"%d번 학생 축하합니다. 합격입니다. \" % number)\n"
   ]
  },
  {
   "cell_type": "markdown",
   "metadata": {},
   "source": [
    "---\n",
    "### 3. While문\n",
    "While문은 특정 조건이 참인 동안 코드를 반복해서 실행되도록 할 때 사용하며 **반드시 조건식이 존재해야 함**\n",
    "\n",
    "**생성규칙**\n",
    "- while구문은 조건식이 있어야 한다.\n",
    "\n",
    "\n",
    "#### Structure:\n",
    "> **while** (True or False가 되는 조건식):\n",
    "---"
   ]
  },
  {
   "cell_type": "markdown",
   "metadata": {},
   "source": [
    "#### for구문과 while구문의 차이 _ Fighting을 8번 출력하라."
   ]
  },
  {
   "cell_type": "code",
   "execution_count": null,
   "metadata": {},
   "outputs": [],
   "source": [
    "#For 구문 활용\n",
    "for i in range(8):\n",
    "    print(\"Fighting\")    "
   ]
  },
  {
   "cell_type": "code",
   "execution_count": null,
   "metadata": {},
   "outputs": [],
   "source": [
    "#While 구문 활용\n",
    "i = 0\n",
    "while i < 8:\n",
    "    print(\"Fighting\")\n",
    "    i = i+1"
   ]
  },
  {
   "cell_type": "markdown",
   "metadata": {},
   "source": [
    "#### While구문 실습(1) 단순 반복"
   ]
  },
  {
   "cell_type": "code",
   "execution_count": null,
   "metadata": {},
   "outputs": [],
   "source": [
    "i = 0\n",
    "while i < 10:\n",
    "    print(\"{}번째 반복입니다\".format(i))\n",
    "    i += 1"
   ]
  },
  {
   "cell_type": "markdown",
   "metadata": {},
   "source": [
    "#### While 구문 실습(2)_컴퓨터 성능 확인하기_5초간 단순연산횟수"
   ]
  },
  {
   "cell_type": "code",
   "execution_count": null,
   "metadata": {},
   "outputs": [],
   "source": [
    "import time\n",
    "\n",
    "output = 0\n",
    "\n",
    "target_tick = time.time() + 5\n",
    "\n",
    "while time.time() < target_tick:\n",
    "    output += 1\n",
    "\n",
    "print(\"5초동안 반복연산한 횟수:\", output)"
   ]
  },
  {
   "cell_type": "markdown",
   "metadata": {},
   "source": [
    "#### While 구문 실습(3)_Up & Down 게임"
   ]
  },
  {
   "cell_type": "code",
   "execution_count": null,
   "metadata": {},
   "outputs": [],
   "source": [
    "import random\n",
    "\n",
    "n = random.randint(1, 30)\n",
    "\n",
    "while True:\n",
    "    x = input(\"맞혀보세요\")\n",
    "    g = int(x)\n",
    "    \n",
    "    if g==n:\n",
    "        print(\"정답입니다.\")\n",
    "        break\n",
    "    \n",
    "    if g > n:\n",
    "        print(\"다운\")\n",
    "    \n",
    "    if g < n:\n",
    "        print(\"up\")   "
   ]
  },
  {
   "cell_type": "markdown",
   "metadata": {},
   "source": [
    "#### 30명이 있는 수업에서 생일이 같은 사람이 있을 확률은?\n",
    "참고: 생일문제  <https://ko.wikipedia.org/wiki/%EC%83%9D%EC%9D%BC_%EB%AC%B8%EC%A0%9C>"
   ]
  },
  {
   "cell_type": "code",
   "execution_count": null,
   "metadata": {},
   "outputs": [],
   "source": [
    "import numpy as np\n",
    "numstudents = 55\n",
    "numTrials = 10000\n",
    "numWithSameBday = 0\n",
    "\n",
    "\n",
    "for trial in range(numTrials):\n",
    "    year = [0]*365\n",
    "    \n",
    "    for i in range(numstudents):\n",
    "        newBDay = np.random.randint(365)\n",
    "        year[newBDay] = year[newBDay] + 1\n",
    "        haveSameBday = False\n",
    "        \n",
    "    for num in year:\n",
    "        if num > 1:\n",
    "            haveSameBday = True\n",
    "                \n",
    "    if haveSameBday == True:\n",
    "        numWithSameBday = numWithSameBday + 1\n",
    "                \n",
    "prob = float(numWithSameBday) / float(numTrials)\n",
    "\n",
    "print(numstudents,\"명 중 생일이 같은 사람이 있을 확률은 \", prob,\"입니다\")            "
   ]
  },
  {
   "cell_type": "markdown",
   "metadata": {},
   "source": [
    "### [참고] 할당 연산자\n",
    "a=10, b=20 으로 가정함\n",
    "\n",
    "<H3>Operator|<H3>Description|<H3>Excample\n",
    ":-:|:-:|:-:|\n",
    "=|왼쪽 변수에 오른쪽 값을 할당함|c=a+b → c=a+b\n",
    "+=|왼쪽 변수에 오른쪽 값을 더하고 결과를 왼쪽 변수에 할당|c+=a → c=c+a\n",
    "-+|왼쪽 변수에서 오른쪽 값을 빼고 결과를 왼쪽 변수에 할당|c-=a → c=c-a\n",
    "*=|왼쪽 변수에 오른쪽 값을 곱하고 결과를 왼쪽 변수에 할당|c*=a → c=c*a\n",
    "/=|왼쪽 변수에 오른쪽 값을 나누고 결과를 왼쪽 변수에 할당|c/=a → c=c/a\n",
    "%=|왼쪽 변수에서 오른쪽 값을 나눈 나머지의 결과를 왼쪽 변수에 할당|c%=a → c=c%a\n",
    "**=|왼쪽 변수에 오른쪽 값만큼 제곱하고 결과를 왼쪽 변수에 할당|c**=a → c=c**a\n",
    "//=|왼쪽 변수에서 오른쪽 값을 나눈 몫의 결과를 왼쪽 변수에 할당|c//=a → c=c//a"
   ]
  }
 ],
 "metadata": {
  "kernelspec": {
   "display_name": "Python 3",
   "language": "python",
   "name": "python3"
  },
  "language_info": {
   "codemirror_mode": {
    "name": "ipython",
    "version": 3
   },
   "file_extension": ".py",
   "mimetype": "text/x-python",
   "name": "python",
   "nbconvert_exporter": "python",
   "pygments_lexer": "ipython3",
   "version": "3.7.2"
  }
 },
 "nbformat": 4,
 "nbformat_minor": 2
}
