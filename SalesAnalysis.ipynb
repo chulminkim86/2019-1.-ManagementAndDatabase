{
 "cells": [
  {
   "cell_type": "markdown",
   "metadata": {},
   "source": [
    "# 매출이 왜 감소하고 있는가?"
   ]
  },
  {
   "cell_type": "markdown",
   "metadata": {},
   "source": [
    "## 1. Loading data"
   ]
  },
  {
   "cell_type": "markdown",
   "metadata": {},
   "source": [
    "#### 1) 필요한 라이브러리들을 호출"
   ]
  },
  {
   "cell_type": "code",
   "execution_count": null,
   "metadata": {},
   "outputs": [],
   "source": [
    "#데이터 분석에 필요한 패키지들을 파이썬으로 호출\n",
    "import pandas as pd\n",
    "import os\n",
    "import numpy as np\n",
    "import matplotlib.pyplot as plt\n",
    "%matplotlib inline\n",
    "import seaborn as sns "
   ]
  },
  {
   "cell_type": "markdown",
   "metadata": {},
   "source": [
    "#### 2) 각 변수별로 데이터 할당 "
   ]
  },
  {
   "cell_type": "code",
   "execution_count": null,
   "metadata": {},
   "outputs": [],
   "source": [
    "dau = pd.read_csv('dau.csv', engine='python')\n",
    "dpu = pd.read_csv('dpu.csv', engine='python')\n",
    "install = pd.read_csv('install.csv', engine='python')"
   ]
  },
  {
   "cell_type": "markdown",
   "metadata": {},
   "source": [
    "#### 3) 호출된 데이터 정보 확인"
   ]
  },
  {
   "cell_type": "code",
   "execution_count": null,
   "metadata": {
    "scrolled": true
   },
   "outputs": [],
   "source": [
    "dau.info()\n",
    "dau[:5]"
   ]
  },
  {
   "cell_type": "code",
   "execution_count": null,
   "metadata": {
    "scrolled": true
   },
   "outputs": [],
   "source": [
    "dpu.info()\n",
    "dpu[:5]"
   ]
  },
  {
   "cell_type": "code",
   "execution_count": null,
   "metadata": {
    "scrolled": true
   },
   "outputs": [],
   "source": [
    "install.info()\n",
    "install[:5]"
   ]
  },
  {
   "cell_type": "markdown",
   "metadata": {},
   "source": [
    "# 2. Data cleaning"
   ]
  },
  {
   "cell_type": "markdown",
   "metadata": {},
   "source": [
    "#### 1) 각 데이터들을 결합\n",
    "merge(): 키를 하나 이상 사용해 데이터 프레임의 각 열들을 합치는 기능을 가지고 있음\n",
    "- merge()인자 'how=  ' 결합 유형을 정의하는 인자값으로 default는 inner 유형 (완벽히 같은 값만 호출/교집합), outer 유형은 합집합"
   ]
  },
  {
   "cell_type": "code",
   "execution_count": null,
   "metadata": {},
   "outputs": [],
   "source": [
    "#Install데이터에 Dau 데이터를 결합하기\n",
    "InstallDau = install.merge(dau, on=['user_id', 'app_name'])"
   ]
  },
  {
   "cell_type": "code",
   "execution_count": null,
   "metadata": {},
   "outputs": [],
   "source": [
    "InstallDau.info()\n",
    "InstallDau[:5]"
   ]
  },
  {
   "cell_type": "code",
   "execution_count": null,
   "metadata": {},
   "outputs": [],
   "source": [
    "#위 데이터에 다시 DPU데이터를 결합하기\n",
    "InstallDauPayment = InstallDau.merge(dpu, on=[\"log_date\", \"app_name\", \"user_id\"], how=\"outer\")"
   ]
  },
  {
   "cell_type": "code",
   "execution_count": null,
   "metadata": {},
   "outputs": [],
   "source": [
    "InstallDauPayment.info()\n",
    "InstallDauPayment[:5]"
   ]
  },
  {
   "cell_type": "markdown",
   "metadata": {},
   "source": [
    "#### 2) 결측치(NaN)를 0으로 대체"
   ]
  },
  {
   "cell_type": "code",
   "execution_count": null,
   "metadata": {},
   "outputs": [],
   "source": [
    "#결측치를 0으로 대체\n",
    "InstallDauPayment = InstallDauPayment.fillna(0)"
   ]
  },
  {
   "cell_type": "code",
   "execution_count": null,
   "metadata": {},
   "outputs": [],
   "source": [
    "InstallDauPayment.info()\n",
    "InstallDauPayment[:5]"
   ]
  },
  {
   "cell_type": "markdown",
   "metadata": {},
   "source": [
    "#### 3) 월별 정렬을 위한 문자처리"
   ]
  },
  {
   "cell_type": "code",
   "execution_count": null,
   "metadata": {
    "scrolled": false
   },
   "outputs": [],
   "source": [
    "#log_date열(series)를 기존 log_date의 앞에서 7번째 값으로 치환 \n",
    "InstallDauPayment['log_date'] = InstallDauPayment['log_date'].str[:7]\n",
    "\n",
    "#Install_date열(series)를 기존 Install_date의 앞에서 7번째 값으로 치환 \n",
    "InstallDauPayment['install_date'] = InstallDauPayment['install_date'].str[:7]\n",
    "\n",
    "#변환된 결과 확인\n",
    "InstallDauPayment[:5]"
   ]
  },
  {
   "cell_type": "markdown",
   "metadata": {},
   "source": [
    "#### 4) 신규 유저 분류"
   ]
  },
  {
   "cell_type": "code",
   "execution_count": null,
   "metadata": {},
   "outputs": [],
   "source": [
    "#데이터프레임에 User_type 시리즈를 만들고 \n",
    "#Install날짜와 접속일자가 같으면 Install 고객(신규유저), 그렇지 않으면 existing 고객(기존 고객)으로 표현\n",
    "InstallDauPayment[\"user_type\"] = np.where(InstallDauPayment['log_date'] == InstallDauPayment['install_date'], 'install', 'existing')"
   ]
  },
  {
   "cell_type": "code",
   "execution_count": null,
   "metadata": {
    "scrolled": false
   },
   "outputs": [],
   "source": [
    "InstallDauPayment[:5]"
   ]
  },
  {
   "cell_type": "markdown",
   "metadata": {},
   "source": [
    "# 3-4. Data analysis & Visualization"
   ]
  },
  {
   "cell_type": "markdown",
   "metadata": {},
   "source": [
    "### 1-1. 메인분석: 월별 유저 현황"
   ]
  },
  {
   "cell_type": "markdown",
   "metadata": {},
   "source": [
    "#### 1) Seaborn을 이용한 시각화"
   ]
  },
  {
   "cell_type": "code",
   "execution_count": null,
   "metadata": {
    "scrolled": false
   },
   "outputs": [],
   "source": [
    "#seaborn 그래프 사이즈 고정\n",
    "sns.set(rc={\"figure.figsize\":(6, 6)})\n",
    "\n",
    "#seaborn 라이브러리 중 countplot 사용\n",
    "sns.countplot(data=InstallDauPayment, x=\"log_date\", hue=\"user_type\")"
   ]
  },
  {
   "cell_type": "markdown",
   "metadata": {},
   "source": [
    "#### 2) pandas 자체 함수를 이용한 시각화"
   ]
  },
  {
   "cell_type": "code",
   "execution_count": null,
   "metadata": {},
   "outputs": [],
   "source": [
    "#payment를 log_date와 user_type을 기준으로 분류\n",
    "grouped = InstallDauPayment['payment'].groupby([InstallDauPayment[\"log_date\"],InstallDauPayment[\"user_type\"]]).sum()\n",
    "\n",
    "#grouped 호출\n",
    "grouped "
   ]
  },
  {
   "cell_type": "code",
   "execution_count": null,
   "metadata": {
    "scrolled": true
   },
   "outputs": [],
   "source": [
    "#plot 함수를 통한 시각화\n",
    "grouped.unstack().plot(kind=\"bar\", stacked=True, color=[\"c\", \"m\"], grid=False, figsize=[6, 6], title=\"Payment Graph\")"
   ]
  },
  {
   "cell_type": "markdown",
   "metadata": {},
   "source": [
    "### 1-2. 추가 분석: 신규유저의 payment 현황"
   ]
  },
  {
   "cell_type": "code",
   "execution_count": null,
   "metadata": {},
   "outputs": [],
   "source": [
    "#InstallDauPayment 데이터프레임을 \"user_type\"인덱스로 정렬\n",
    "df = InstallDauPayment.set_index(\"user_type\")\n",
    "\n",
    "#df데이터프레임 중 기존 고객'행'을 제거\n",
    "df.drop(\"existing\", inplace = True)"
   ]
  },
  {
   "cell_type": "code",
   "execution_count": null,
   "metadata": {
    "scrolled": true
   },
   "outputs": [],
   "source": [
    "df[:5]"
   ]
  },
  {
   "cell_type": "markdown",
   "metadata": {},
   "source": [
    "#### 신규유저만 시각화"
   ]
  },
  {
   "cell_type": "code",
   "execution_count": null,
   "metadata": {
    "scrolled": true
   },
   "outputs": [],
   "source": [
    "#df데이터프레임을 'payment' 인덱스로 정렬\n",
    "df = df.set_index(\"payment\")\n",
    "\n",
    "#df데이터프레임 중 지불액 0원 제거\n",
    "df.drop(0, inplace = True)\n",
    "\n",
    "#df데이터프레임을 새 인덱스로 정렬\n",
    "df = df.reset_index()"
   ]
  },
  {
   "cell_type": "code",
   "execution_count": null,
   "metadata": {
    "scrolled": false
   },
   "outputs": [],
   "source": [
    "df.head()"
   ]
  },
  {
   "cell_type": "code",
   "execution_count": null,
   "metadata": {},
   "outputs": [],
   "source": [
    "#2019-06월, 2019-07월 기준의 데이터프레임을 호출하고 x1, x2변수로 저장\n",
    "x1=df.set_index(\"log_date\").loc[\"2019-06\"].payment.as_matrix()\n",
    "x2=df.set_index(\"log_date\").loc[\"2019-07\"].payment.as_matrix()\n",
    "\n",
    "#시각화를 위한 data를 만들기 위해 변수 x1, x2를 numpy.array 형태로 저장\n",
    "data=np.array([x1, x2])\n",
    "\n",
    "#시각화 스타일('seaborn-deep')지정\n",
    "plt.style.use(\"seaborn-deep\")\n",
    "\n",
    "#그래프에 사용되는 변수들 정의\n",
    "bins=np.linspace(0, 30000, 10) \n",
    "plt.xlabel(\"Payment\")\n",
    "plt.ylabel(\"count\")\n",
    "\n",
    "#시각화 수행\n",
    "plt.hist(data, bins, label=['2019-06', '2019-07'])\n",
    "plt.legend(loc='upper right')\n",
    "plt.show()"
   ]
  },
  {
   "cell_type": "code",
   "execution_count": null,
   "metadata": {},
   "outputs": [],
   "source": [
    "#2019-06월, 2019-07월 기준의 데이터프레임을 호출하고 x1, x2변수로 저장\n",
    "x1=df.set_index(\"log_date\").loc[\"2019-06\"].payment.values\n",
    "x2=df.set_index(\"log_date\").loc[\"2019-07\"].payment.values\n",
    "\n",
    "#시각화를 위한 data를 만들기 위해 변수 x1, x2를 numpy.array 형태로 저장\n",
    "data=np.array([x1, x2])\n",
    "\n",
    "#시각화 스타일('seaborn-deep')지정\n",
    "plt.style.use(\"seaborn-deep\")\n",
    "\n",
    "#그래프에 사용되는 변수들 정의\n",
    "bins=np.linspace(0, 30000, 10) \n",
    "plt.xlabel(\"Payment\")\n",
    "plt.ylabel(\"count\")\n",
    "\n",
    "#시각화 수행\n",
    "plt.hist(data, bins, label=['2019-06', '2019-07'])\n",
    "plt.legend(loc='upper right')\n",
    "plt.show()"
   ]
  }
 ],
 "metadata": {
  "kernelspec": {
   "display_name": "Python 3",
   "language": "python",
   "name": "python3"
  },
  "language_info": {
   "codemirror_mode": {
    "name": "ipython",
    "version": 3
   },
   "file_extension": ".py",
   "mimetype": "text/x-python",
   "name": "python",
   "nbconvert_exporter": "python",
   "pygments_lexer": "ipython3",
   "version": "3.7.3"
  }
 },
 "nbformat": 4,
 "nbformat_minor": 2
}
