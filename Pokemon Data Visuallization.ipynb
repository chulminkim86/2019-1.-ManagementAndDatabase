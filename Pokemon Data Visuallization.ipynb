{
 "cells": [
  {
   "cell_type": "markdown",
   "metadata": {},
   "source": [
    "# 주요 라이브러리"
   ]
  },
  {
   "cell_type": "markdown",
   "metadata": {},
   "source": [
    "### 1. pandas 라이브러리\n",
    "pandas는 데이터 처리와 분석을 위해 만들어진 파이썬 라이브러리로써 R의 data.frame, 엑셀의 cell 등을 본떠 설계된 DataFrame이라는 자료 구조와 Series를 기반으로 작동함\n",
    "\n",
    "**주요 특징**\n",
    "- Pandas는 엑셀의 스프레드시트와 비슷한 테이블 형태로 데이터를 조회, 수정, 조작 및 분석 등을 수행함\n",
    "- 각 열 값의 자료 유형이 달라도 작동함\n",
    "- SQL, 엑셀파일, CSV 등 다양한 파일을 활용할 수 있음\n",
    "- 간단한 시각화 명령을 지원함"
   ]
  },
  {
   "cell_type": "markdown",
   "metadata": {},
   "source": [
    "#### DataFrame 만들기\n",
    "pandas 라이브러리를 호출한 뒤 raw data를 특정 변수에 대입한 후 호출"
   ]
  },
  {
   "cell_type": "code",
   "execution_count": null,
   "metadata": {},
   "outputs": [],
   "source": [
    "# Pandas를 pd이름으로 호출\n",
    "import pandas as pd"
   ]
  },
  {
   "cell_type": "code",
   "execution_count": null,
   "metadata": {},
   "outputs": [],
   "source": [
    "# 파일을 불러와서 student 변수 값으로 지정 <= DataFrame 생성\n",
    "pokemon = pd.read_csv('pokemon.csv', engine='python')"
   ]
  },
  {
   "cell_type": "code",
   "execution_count": null,
   "metadata": {},
   "outputs": [],
   "source": [
    "#pokemon 데이터 중 쓸모없는 데이터 제거\n",
    "pokemon.drop([\"#\", \"Type 2\", \"Generation\"], axis=1, inplace=True)"
   ]
  },
  {
   "cell_type": "code",
   "execution_count": null,
   "metadata": {},
   "outputs": [],
   "source": [
    "#pokemon 호출하기\n",
    "pokemon.head()"
   ]
  },
  {
   "cell_type": "markdown",
   "metadata": {},
   "source": [
    "#### DataFrame의 정보확인하기\n",
    "DataFrame이름.info()를 이용해 확인할 수 있음"
   ]
  },
  {
   "cell_type": "code",
   "execution_count": null,
   "metadata": {
    "scrolled": true
   },
   "outputs": [],
   "source": [
    "#student의 대략적인 정보 확인하기\n",
    "pokemon.info()"
   ]
  },
  {
   "cell_type": "markdown",
   "metadata": {},
   "source": [
    "#### Print를 이용한 DataFrame 데이터 현황 파악"
   ]
  },
  {
   "cell_type": "code",
   "execution_count": null,
   "metadata": {},
   "outputs": [],
   "source": [
    "print('기본공격 가장 강한 포켓몬: {}'.format(pokemon.Name[pokemon['Attack'].idxmax()] ))\n",
    "print('가장 느린 포켓몬: {}'.format(pokemon.Name[pokemon['Speed'].idxmin()] )) "
   ]
  },
  {
   "cell_type": "markdown",
   "metadata": {},
   "source": [
    "#### 데이터 샘플링 수행"
   ]
  },
  {
   "cell_type": "code",
   "execution_count": null,
   "metadata": {},
   "outputs": [],
   "source": [
    "#pokemon 데이터에서 20개 데이터를 임의추출\n",
    "PoSample = pokemon.sample(n=20)\n",
    "\n",
    "#pokemon 데이터에서 1% 데이터를 임의추출\n",
    "PoSample = pokemon.sample(frac=0.01)"
   ]
  },
  {
   "cell_type": "code",
   "execution_count": null,
   "metadata": {},
   "outputs": [],
   "source": [
    "#샘플 확인\n",
    "PoSample"
   ]
  },
  {
   "cell_type": "markdown",
   "metadata": {},
   "source": [
    "#### DataFrame의 기술통계량 구하기\n",
    "DataFrame이름.describe()를 이용해 확인할 수 있음"
   ]
  },
  {
   "cell_type": "code",
   "execution_count": null,
   "metadata": {
    "scrolled": true
   },
   "outputs": [],
   "source": [
    "#숫자 값만 포함한 기술통계\n",
    "PoSample.describe().round(1)"
   ]
  },
  {
   "cell_type": "code",
   "execution_count": null,
   "metadata": {
    "scrolled": false
   },
   "outputs": [],
   "source": [
    "#특정 열(height)값에 대한 기술통계\n",
    "PoSample.Speed.describe()"
   ]
  },
  {
   "cell_type": "markdown",
   "metadata": {},
   "source": [
    "#### 파이차트로 분류해보기"
   ]
  },
  {
   "cell_type": "code",
   "execution_count": null,
   "metadata": {},
   "outputs": [],
   "source": [
    "fig = plt.figure(figsize=(7,7))\n",
    "\n",
    "colours = [\"aqua\", \"orange\"]\n",
    "pokeLeg = pokemon[pokemon['Legendary']==True]\n",
    "pokeNon = pokemon[pokemon['Legendary']==False]\n",
    "\n",
    "legDist = [pokeLeg['Name'].count(),pokemon['Name'].count()]\n",
    "legPie = plt.pie(legDist,\n",
    "                 labels= ['Legendary', 'Non Legendary'], \n",
    "                 autopct ='%1.1f%%', \n",
    "                 shadow = True,\n",
    "                 colors=colours,\n",
    "                 startangle = 45,\n",
    "                 explode=(0, 0.1))"
   ]
  },
  {
   "cell_type": "markdown",
   "metadata": {},
   "source": [
    "### 2. Numpy 라이브러리\n",
    "Numerical Python의 줄임말인 Numpy는 과학계산 컴퓨팅과 데이터 분석에 필요한 계산통계 패키지임\n",
    "\n",
    "**주요 특징**\n",
    "- 다차원 배열인 ndarray를 사용함\n",
    "- pandas를 이용한 고급 벡터계산 및 배열이 가능"
   ]
  },
  {
   "cell_type": "code",
   "execution_count": null,
   "metadata": {},
   "outputs": [],
   "source": [
    "import numpy as np"
   ]
  },
  {
   "cell_type": "code",
   "execution_count": null,
   "metadata": {},
   "outputs": [],
   "source": [
    "#추출한 샘플의 상관계수 도출\n",
    "np.corrcoef(PoSample[\"Attack\"], PoSample[\"Defense\"])"
   ]
  },
  {
   "cell_type": "code",
   "execution_count": null,
   "metadata": {},
   "outputs": [],
   "source": [
    "#전체 모집단(포켓몬데이터)의 상관계수 도출\n",
    "np.corrcoef(pokemon[\"Attack\"], pokemon[\"Defense\"])"
   ]
  },
  {
   "cell_type": "code",
   "execution_count": null,
   "metadata": {},
   "outputs": [],
   "source": [
    "#추출한 샘플에 대한 산점도 그리기\n",
    "###\n",
    "plt.figure()\n",
    "plt.scatter(PoSample[\"Attack\"], PoSample[\"Defense\"])\n",
    "plt.xlabel(\"Attack\")\n",
    "plt.ylabel(\"Defense\")\n",
    "plt.title(\"Attack and Defense\")\n",
    "plt.show()"
   ]
  },
  {
   "cell_type": "code",
   "execution_count": null,
   "metadata": {},
   "outputs": [],
   "source": [
    "#추출한 샘플에 대한 산점도 그리기\n",
    "###\n",
    "plt.figure()\n",
    "plt.scatter(pokemon[\"Attack\"], pokemon[\"Defense\"])\n",
    "plt.xlabel(\"Attack\")\n",
    "plt.ylabel(\"Defense\")\n",
    "plt.title(\"Attack and Defense\")\n",
    "plt.show()"
   ]
  },
  {
   "cell_type": "markdown",
   "metadata": {},
   "source": [
    "### 3. matplotlib 라이브러리\n",
    "matplotlib(맷플롯립)은 고품질의 그래프를 만들기 위한 라이브러리로 막대그래프, 상자 그림 등 기본적인 통계 그래프를 만들 수 있으며 모양과 크기, 축의 범위와 단위 등 다양한 서식을 사용자가 조절하여 사용할 수 있음\n",
    "\n",
    "**주요특징**\n",
    "- Pandas 내부 메서드를 사용해 시각화를 수행할 수 있으나 그마저 matplotlib 구조를 차용함\n",
    "- 데이터를 지도에 매핑하는 basemap, cartopy, 3D그래프를 만드는 mplot3d 등 도구를 제공함\n",
    "- 그래프를 그리는데 사용되는 matplot 라이브러리의 모듈은 pyplot을 많이 사용함\n",
    "- 주피터 노트북에서 matplotlib를 이용한 그래프를 확인하기 위해서는 %matplotlib inline 명령을 사용해야 함"
   ]
  },
  {
   "cell_type": "markdown",
   "metadata": {},
   "source": [
    "#### matplolib 라이브러리 호출하기\n",
    "사용할 라이브러리를 호출함"
   ]
  },
  {
   "cell_type": "code",
   "execution_count": null,
   "metadata": {},
   "outputs": [],
   "source": [
    "#matplotlib.pyplot을 plt이름으로 호출\n",
    "import matplotlib.pyplot as plt\n",
    "\n",
    "#matplotlib 시각화 결과를 주피터노트북에서 호출\n",
    "%matplotlib inline\n",
    "\n",
    "#seaborn을 sns 이름으로 호출\n",
    "import seaborn as sns\n",
    "\n",
    "#스타일 지정\n",
    "plt.style.use('fivethirtyeight')"
   ]
  },
  {
   "cell_type": "markdown",
   "metadata": {},
   "source": [
    "#### DataFrame을 시각화하기\n",
    "pandas와 matplotplib이 갖고 있는 내장함수(메서드)를 이용해 다양한 시각화를 수행할 수 있음"
   ]
  },
  {
   "cell_type": "markdown",
   "metadata": {},
   "source": [
    "#### 1) 히스토그램"
   ]
  },
  {
   "cell_type": "code",
   "execution_count": null,
   "metadata": {},
   "outputs": [],
   "source": [
    "#DataFrame'Pokemon' 중 숫자형태의 열속성을 히스토그램으로 만들기\n",
    "pokemon.Speed.hist(bins=10) #bins = 막대수"
   ]
  },
  {
   "cell_type": "code",
   "execution_count": null,
   "metadata": {
    "scrolled": false
   },
   "outputs": [],
   "source": [
    "#alpha = 진하기 (0~1)\n",
    "pokemon.hist(color='red', alpha=0.2, bins=\"auto\", figsize=(15, 10))"
   ]
  },
  {
   "cell_type": "markdown",
   "metadata": {},
   "source": [
    "#### 2) Box-plot"
   ]
  },
  {
   "cell_type": "code",
   "execution_count": null,
   "metadata": {
    "scrolled": false
   },
   "outputs": [],
   "source": [
    "#’Pokemon’Dataframe 중 Speed열을 박스플롯으로 그리기\n",
    "pokemon.boxplot(column='Speed')"
   ]
  },
  {
   "cell_type": "markdown",
   "metadata": {},
   "source": [
    "#### 3) bar chart"
   ]
  },
  {
   "cell_type": "code",
   "execution_count": null,
   "metadata": {
    "scrolled": false
   },
   "outputs": [],
   "source": [
    "#다섯번째까지의 데이터를 bar 차트로 그리기\n",
    "pokemon.iloc[:5].plot.bar() "
   ]
  },
  {
   "cell_type": "markdown",
   "metadata": {},
   "source": [
    "#### 4) area chart"
   ]
  },
  {
   "cell_type": "code",
   "execution_count": null,
   "metadata": {},
   "outputs": [],
   "source": [
    "#다섯번째까지의 데이터를 area 차트로 그리기\n",
    "pokemon.iloc[:5].plot.area()"
   ]
  },
  {
   "cell_type": "markdown",
   "metadata": {},
   "source": [
    "#### 5) scatter chart"
   ]
  },
  {
   "cell_type": "code",
   "execution_count": null,
   "metadata": {},
   "outputs": [],
   "source": [
    "#스무번째까지의 데이터를 scatter 차트로 그리기\n",
    "pokemon.iloc[:20].plot.scatter(x=\"Attack\", y=\"Defense\")"
   ]
  },
  {
   "cell_type": "markdown",
   "metadata": {},
   "source": [
    "#### 6) hexbin chart"
   ]
  },
  {
   "cell_type": "code",
   "execution_count": null,
   "metadata": {},
   "outputs": [],
   "source": [
    "#전체 데이터를 hexbin 차트로 그리기\n",
    "pokemon.plot.hexbin(x=\"Attack\", y=\"Defense\", gridsize=25)"
   ]
  },
  {
   "cell_type": "markdown",
   "metadata": {},
   "source": [
    "### 3. seaborn 라이브러리\n",
    "seaborn(시본)은 내부적으로 matplotlib를 호출하는 시각화 전문 라이브러리로 자체적으로는 도식화를 수행하지 않으나 다양한 색상 테마와 통계용 차트를 제공함\n",
    "\n",
    "**주요특징**\n",
    "- 색상 테마를 이용해 다양한 색깔의 차트를 이용할 수 있음\n",
    "- Pandas에 비해 정돈된 데이터 형태가 필요함"
   ]
  },
  {
   "cell_type": "markdown",
   "metadata": {},
   "source": [
    "#### 1) Joint plot"
   ]
  },
  {
   "cell_type": "code",
   "execution_count": null,
   "metadata": {
    "scrolled": false
   },
   "outputs": [],
   "source": [
    "# joint plot 그리기\n",
    "sns.jointplot(x=\"Attack\", y=\"Defense\", data=pokemon)"
   ]
  },
  {
   "cell_type": "markdown",
   "metadata": {},
   "source": [
    "#### 2) boxplot"
   ]
  },
  {
   "cell_type": "code",
   "execution_count": null,
   "metadata": {
    "scrolled": true
   },
   "outputs": [],
   "source": [
    "#boxplot그리기\n",
    "#sns.boxplot(data=pokemon)\n",
    "plt.subplots(figsize = (15,5))\n",
    "plt.title('Attack by Type')\n",
    "sns.boxplot(x = \"Type 1\", y = \"Attack\",data = pokemon)\n",
    "plt.ylim(0,200)\n",
    "plt.show()"
   ]
  },
  {
   "cell_type": "markdown",
   "metadata": {},
   "source": [
    "#### 3) barplot"
   ]
  },
  {
   "cell_type": "code",
   "execution_count": null,
   "metadata": {},
   "outputs": [],
   "source": [
    "#barplot 그리기\n",
    "sns.barplot(data=pokemon)"
   ]
  },
  {
   "cell_type": "markdown",
   "metadata": {},
   "source": [
    "#### 4) regression "
   ]
  },
  {
   "cell_type": "code",
   "execution_count": null,
   "metadata": {
    "scrolled": false
   },
   "outputs": [],
   "source": [
    "#height와 weight의 regresstion 그리기\n",
    "dt = pokemon.iloc[:20]\n",
    "sns.lmplot(x=\"Attack\", y=\"HP\", data=dt)\n",
    "#height와 age의 regresstion 그리기\n",
    "sns.lmplot(x=\"Speed\", y=\"HP\", data=dt)"
   ]
  },
  {
   "cell_type": "markdown",
   "metadata": {},
   "source": [
    "#### 일반포켓몬과 전설포켓몬의 공격력 차이 비교"
   ]
  },
  {
   "cell_type": "code",
   "execution_count": null,
   "metadata": {},
   "outputs": [],
   "source": [
    "plt.figure(figsize=(12,6))\n",
    "\n",
    "top_types=pokemon['Type 1'].value_counts()[:10] \n",
    "#타입 중 초반 10개만 가져옴\n",
    "\n",
    "df1 = pokemon[pokemon['Type 1'].isin(top_types.index)] \n",
    "#초반 10개 타입에 해당하는 모든 포켓몬을 호출해 데이터 프레임으로 저장함\n",
    "\n",
    "sns.swarmplot(x='Type 1', y='Attack',data=df1, hue='Legendary') # this plot shows the points belonging to individual pokemons\n",
    "#Swarmplot을 만들고, 주요 인자값들을 지정함\n",
    "\n",
    "plt.axhline(df1['Attack'].mean(),color='red', linestyle='dashed')\n",
    "#분석이 쉽도록공격력에 대한 평균선을 삽입함\n",
    "\n",
    "plt.show()"
   ]
  },
  {
   "cell_type": "code",
   "execution_count": null,
   "metadata": {},
   "outputs": [],
   "source": [
    "sns.kdeplot(pokemon.query('Defense>50').Defense)"
   ]
  },
  {
   "cell_type": "code",
   "execution_count": null,
   "metadata": {},
   "outputs": [],
   "source": [
    "sns.kdeplot(pokemon['HP'], pokemon[\"Attack\"])"
   ]
  },
  {
   "cell_type": "code",
   "execution_count": null,
   "metadata": {},
   "outputs": [],
   "source": [
    "sns.distplot(pokemon['HP'])"
   ]
  },
  {
   "cell_type": "code",
   "execution_count": null,
   "metadata": {},
   "outputs": [],
   "source": [
    "plt.figure(figsize=(20, 10))\n",
    "sns.heatmap(pokemon.corr(), annot=True)\n",
    "plt.show()"
   ]
  }
 ],
 "metadata": {
  "kernelspec": {
   "display_name": "Python 3",
   "language": "python",
   "name": "python3"
  },
  "language_info": {
   "codemirror_mode": {
    "name": "ipython",
    "version": 3
   },
   "file_extension": ".py",
   "mimetype": "text/x-python",
   "name": "python",
   "nbconvert_exporter": "python",
   "pygments_lexer": "ipython3",
   "version": "3.7.2"
  }
 },
 "nbformat": 4,
 "nbformat_minor": 2
}
